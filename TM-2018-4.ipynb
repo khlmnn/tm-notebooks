{
 "cells": [
  {
   "cell_type": "markdown",
   "metadata": {},
   "source": [
    "# Word vectors"
   ]
  },
  {
   "cell_type": "markdown",
   "metadata": {},
   "source": [
    "In this notebook we will explore word vectors. We will use the vectors from [spaCy](http://spacy.io)."
   ]
  },
  {
   "cell_type": "code",
   "execution_count": 1,
   "metadata": {},
   "outputs": [],
   "source": [
    "import spacy"
   ]
  },
  {
   "cell_type": "markdown",
   "metadata": {},
   "source": [
    "## Inspecting what is there"
   ]
  },
  {
   "cell_type": "markdown",
   "metadata": {},
   "source": [
    "Load the large English language model. This can take a few seconds."
   ]
  },
  {
   "cell_type": "code",
   "execution_count": 2,
   "metadata": {},
   "outputs": [],
   "source": [
    "nlp = spacy.load('en_core_web_lg')"
   ]
  },
  {
   "cell_type": "markdown",
   "metadata": {},
   "source": [
    "Every word in the vocabulary comes with a 300-dimensional vector, represented as a NumPy array. Here is the vector for *cheese*:"
   ]
  },
  {
   "cell_type": "code",
   "execution_count": 3,
   "metadata": {},
   "outputs": [
    {
     "data": {
      "text/plain": [
       "array([-5.5252e-01,  1.8894e-01,  6.8737e-01, -1.9789e-01,  7.0575e-02,\n",
       "        1.0075e+00,  5.1789e-02, -1.5603e-01,  3.1941e-01,  1.1702e+00,\n",
       "       -4.7248e-01,  4.2867e-01, -4.2025e-01,  2.4803e-01,  6.8194e-01,\n",
       "       -6.7488e-01,  9.2401e-02,  1.3089e+00, -3.6278e-02,  2.0098e-01,\n",
       "        7.6005e-01, -6.6718e-02, -7.7794e-02,  2.3844e-01, -2.4351e-01,\n",
       "       -5.4164e-01, -3.3540e-01,  2.9805e-01,  3.5269e-01, -8.0594e-01,\n",
       "       -4.3611e-01,  6.1535e-01,  3.4212e-01, -3.3603e-01,  3.3282e-01,\n",
       "        3.8065e-01,  5.7427e-02,  9.9918e-02,  1.2525e-01,  1.1039e+00,\n",
       "        3.6678e-02,  3.0490e-01, -1.4942e-01,  3.2912e-01,  2.3300e-01,\n",
       "        4.3395e-01,  1.5666e-01,  2.2778e-01, -2.5830e-02,  2.4334e-01,\n",
       "       -5.8136e-02, -1.3486e-01,  2.4521e-01, -3.3459e-01,  4.2839e-01,\n",
       "       -4.8181e-01,  1.3403e-01,  2.6049e-01,  8.9933e-02, -9.3770e-02,\n",
       "        3.7672e-01, -2.9558e-02,  4.3841e-01,  6.1212e-01, -2.5720e-01,\n",
       "       -7.8506e-01,  2.3880e-01,  1.3399e-01, -7.9315e-02,  7.0582e-01,\n",
       "        3.9968e-01,  6.7779e-01, -2.0474e-03,  1.9785e-02, -4.2059e-01,\n",
       "       -5.3858e-01, -5.2155e-02,  1.7252e-01,  2.7547e-01, -4.4482e-01,\n",
       "        2.3595e-01, -2.3445e-01,  3.0103e-01, -5.5096e-01, -3.1159e-02,\n",
       "       -3.4433e-01,  1.2386e+00,  1.0317e+00, -2.2728e-01, -9.5207e-03,\n",
       "       -2.5432e-01, -2.9792e-01,  2.5934e-01, -1.0421e-01, -3.3876e-01,\n",
       "        4.2470e-01,  5.8335e-04,  1.3093e-01,  2.8786e-01,  2.3474e-01,\n",
       "        2.5905e-02, -6.4359e-01,  6.1330e-02,  6.3842e-01,  1.4705e-01,\n",
       "       -6.1594e-01,  2.5097e-01, -4.4872e-01,  8.6825e-01,  9.9555e-02,\n",
       "       -4.4734e-02, -7.4239e-01, -5.9147e-01, -5.4929e-01,  3.8108e-01,\n",
       "        5.5177e-02, -1.0487e-01, -1.2838e-01,  6.0521e-03,  2.8743e-01,\n",
       "        2.1592e-01,  7.2871e-02, -3.1644e-01, -4.3321e-01,  1.8682e-01,\n",
       "        6.7274e-02,  2.8115e-01, -4.6222e-02, -9.6803e-02,  5.6091e-01,\n",
       "       -6.7762e-01, -1.6645e-01,  1.5553e-01,  5.2301e-01, -3.0058e-01,\n",
       "       -3.7291e-01,  8.7895e-02, -1.7963e-01, -4.4193e-01, -4.4607e-01,\n",
       "       -2.4122e+00,  3.3738e-01,  6.2416e-01,  4.2787e-01, -2.5386e-01,\n",
       "       -6.1683e-01, -7.0097e-01,  4.9303e-01,  3.6916e-01, -9.7499e-02,\n",
       "        6.1411e-01, -4.7572e-03,  4.3916e-01, -2.1551e-01, -5.6745e-01,\n",
       "       -4.0278e-01,  2.9459e-01, -3.0850e-01,  1.0103e-01,  7.9741e-02,\n",
       "       -6.3811e-01,  2.4781e-01, -4.4546e-01,  1.0828e-01, -2.3624e-01,\n",
       "       -5.0838e-01, -1.7001e-01, -7.8735e-01,  3.4073e-01, -3.1830e-01,\n",
       "        4.5286e-01, -9.5118e-02,  2.0772e-01, -8.0183e-02, -3.7982e-01,\n",
       "       -4.9949e-01,  4.0759e-02, -3.7724e-01, -8.9705e-02, -6.8187e-01,\n",
       "        2.2106e-01, -3.9931e-01,  3.2329e-01, -3.6180e-01, -7.2093e-01,\n",
       "       -6.3404e-01,  4.3125e-01, -4.9743e-01, -1.7395e-01, -3.8779e-01,\n",
       "       -3.2556e-01,  1.4423e-01, -8.3401e-02, -2.2994e-01,  2.7793e-01,\n",
       "        4.9112e-01,  6.4511e-01, -7.8945e-02,  1.1171e-01,  3.7264e-01,\n",
       "        1.3070e-01, -6.1607e-02, -4.3501e-01,  2.8999e-02,  5.6224e-01,\n",
       "        5.8012e-02,  4.7078e-02,  4.2770e-01,  7.3245e-01, -2.1150e-02,\n",
       "        1.1988e-01,  7.8823e-02, -1.9106e-01,  3.5278e-02, -3.1102e-01,\n",
       "        1.3209e-01, -2.8606e-01, -1.5649e-01, -6.4339e-01,  4.4599e-01,\n",
       "       -3.0912e-01,  4.4520e-01, -3.6774e-01,  2.7327e-01,  6.7833e-01,\n",
       "       -8.3830e-02, -4.5120e-01,  1.0754e-01, -4.5908e-01,  1.5095e-01,\n",
       "       -4.5856e-01,  3.4465e-01,  7.8013e-02, -2.8319e-01, -2.8149e-02,\n",
       "        2.4404e-01, -7.1345e-01,  5.2834e-02, -2.8085e-01,  2.5344e-02,\n",
       "        4.2979e-02,  1.5663e-01, -7.4647e-01, -1.1301e+00,  4.4135e-01,\n",
       "        3.1444e-01, -1.0018e-01, -5.3526e-01, -9.0601e-01, -6.4954e-01,\n",
       "        4.2664e-02, -7.9927e-02,  3.2905e-01, -3.0797e-01, -1.9190e-02,\n",
       "        4.2765e-01,  3.1460e-01,  2.9051e-01, -2.7386e-01,  6.8483e-01,\n",
       "        1.9395e-02, -3.2884e-01, -4.8239e-01, -1.5747e-01, -1.6036e-01,\n",
       "        4.9164e-01, -7.0352e-01, -3.5591e-01, -7.4887e-01, -5.2827e-01,\n",
       "        4.4983e-02,  5.9247e-02,  4.6224e-01,  8.9697e-02, -7.5618e-01,\n",
       "        6.3682e-01,  9.0680e-02,  6.8830e-02,  1.8296e-01,  1.0754e-01,\n",
       "        6.7811e-01, -1.4716e-01,  1.7029e-01, -5.2630e-01,  1.9268e-01,\n",
       "        9.3130e-01,  8.0363e-01,  6.1324e-01, -3.0494e-01,  2.0236e-01,\n",
       "        5.8520e-01,  2.6484e-01, -4.5863e-01,  2.1035e-03, -5.6990e-01,\n",
       "       -4.9092e-01,  4.2511e-01, -1.0954e+00,  1.7124e-01,  2.2495e-01],\n",
       "      dtype=float32)"
      ]
     },
     "execution_count": 3,
     "metadata": {},
     "output_type": "execute_result"
    }
   ],
   "source": [
    "nlp.vocab['cheese'].vector"
   ]
  },
  {
   "cell_type": "markdown",
   "metadata": {},
   "source": [
    "## Cleaning the vocabulary"
   ]
  },
  {
   "cell_type": "markdown",
   "metadata": {},
   "source": [
    "Because the language model was built from web data, its vocabulary is rather large (ca. 1.3 million entries) and contains a lot of non-conventional words:"
   ]
  },
  {
   "cell_type": "code",
   "execution_count": 4,
   "metadata": {},
   "outputs": [
    {
     "name": "stdout",
     "output_type": "stream",
     "text": [
      "EDPT\n",
      "croup\n",
      "Blunt.\n",
      "CAFFIAUX\n",
      "beruhigt\n",
      "Sibs\n",
      "Ginjo\n",
      "stumpfe\n",
      "gorey\n",
      "here..i\n"
     ]
    }
   ],
   "source": [
    "for i, word in enumerate(nlp.vocab):\n",
    "    if i >= 10:\n",
    "        break\n",
    "    print(word.orth_)"
   ]
  },
  {
   "cell_type": "markdown",
   "metadata": {},
   "source": [
    "We remove words with no word vectors (null vectors) and non-alphabetic characters, and normalise to lowercase. However, for each normalised word we keep the word vectors of all non-normalised word forms."
   ]
  },
  {
   "cell_type": "code",
   "execution_count": 5,
   "metadata": {},
   "outputs": [],
   "source": [
    "w2v = {}\n",
    "for word in nlp.vocab:\n",
    "    if word.has_vector:\n",
    "        w = word.orth_.lower()\n",
    "        if w.isalpha():\n",
    "            if w not in w2v:\n",
    "                w2v[w] = []\n",
    "            w2v[w].append(word.vector)"
   ]
  },
  {
   "cell_type": "markdown",
   "metadata": {},
   "source": [
    "The table `w2v` now holds the word vectors for all different forms of *cheese*."
   ]
  },
  {
   "cell_type": "code",
   "execution_count": 6,
   "metadata": {},
   "outputs": [
    {
     "data": {
      "text/plain": [
       "3"
      ]
     },
     "execution_count": 6,
     "metadata": {},
     "output_type": "execute_result"
    }
   ],
   "source": [
    "len(w2v['cheese'])"
   ]
  },
  {
   "cell_type": "markdown",
   "metadata": {},
   "source": [
    "We now construct a new vocabulary where the vector for each word is the average of the vectors of the different word forms in the old vocabulary. For this we need to load NumPy."
   ]
  },
  {
   "cell_type": "code",
   "execution_count": 7,
   "metadata": {},
   "outputs": [],
   "source": [
    "from spacy.vocab import Vocab\n",
    "\n",
    "import numpy as np\n",
    "\n",
    "lc_vocab = Vocab(strings=w2v.keys())\n",
    "for w in lc_vocab:\n",
    "    lc_vocab.set_vector(w.orth, np.mean(np.array(w2v[w.orth_]), axis=0))"
   ]
  },
  {
   "cell_type": "markdown",
   "metadata": {},
   "source": [
    "Here is the size of the new vocabulary:"
   ]
  },
  {
   "cell_type": "code",
   "execution_count": 8,
   "metadata": {},
   "outputs": [
    {
     "data": {
      "text/plain": [
       "247551"
      ]
     },
     "execution_count": 8,
     "metadata": {},
     "output_type": "execute_result"
    }
   ],
   "source": [
    "len(lc_vocab)"
   ]
  },
  {
   "cell_type": "markdown",
   "metadata": {},
   "source": [
    "Here is the new vector for *cheese*:"
   ]
  },
  {
   "cell_type": "code",
   "execution_count": 9,
   "metadata": {},
   "outputs": [
    {
     "data": {
      "text/plain": [
       "array([-5.5251998e-01,  1.8894000e-01,  6.8737000e-01, -1.9789000e-01,\n",
       "        7.0574999e-02,  1.0075001e+00,  5.1789001e-02, -1.5603000e-01,\n",
       "        3.1941000e-01,  1.1702000e+00, -4.7247997e-01,  4.2867002e-01,\n",
       "       -4.2025003e-01,  2.4803001e-01,  6.8194002e-01, -6.7488003e-01,\n",
       "        9.2400998e-02,  1.3089000e+00, -3.6277998e-02,  2.0097999e-01,\n",
       "        7.6005000e-01, -6.6717997e-02, -7.7794001e-02,  2.3843999e-01,\n",
       "       -2.4350999e-01, -5.4163998e-01, -3.3539999e-01,  2.9804999e-01,\n",
       "        3.5269001e-01, -8.0593997e-01, -4.3610999e-01,  6.1535001e-01,\n",
       "        3.4212002e-01, -3.3603001e-01,  3.3282000e-01,  3.8065001e-01,\n",
       "        5.7427000e-02,  9.9918000e-02,  1.2525000e-01,  1.1039000e+00,\n",
       "        3.6678001e-02,  3.0489999e-01, -1.4941999e-01,  3.2912001e-01,\n",
       "        2.3300000e-01,  4.3395004e-01,  1.5666001e-01,  2.2778000e-01,\n",
       "       -2.5830001e-02,  2.4334000e-01, -5.8136001e-02, -1.3485999e-01,\n",
       "        2.4521001e-01, -3.3458999e-01,  4.2839000e-01, -4.8181000e-01,\n",
       "        1.3403000e-01,  2.6049000e-01,  8.9933001e-02, -9.3769997e-02,\n",
       "        3.7672004e-01, -2.9557997e-02,  4.3841001e-01,  6.1211997e-01,\n",
       "       -2.5720000e-01, -7.8505999e-01,  2.3880000e-01,  1.3399000e-01,\n",
       "       -7.9314999e-02,  7.0582002e-01,  3.9967999e-01,  6.7778999e-01,\n",
       "       -2.0474000e-03,  1.9785000e-02, -4.2059001e-01, -5.3858000e-01,\n",
       "       -5.2154999e-02,  1.7252000e-01,  2.7546999e-01, -4.4482002e-01,\n",
       "        2.3594999e-01, -2.3445000e-01,  3.0103001e-01, -5.5096000e-01,\n",
       "       -3.1159000e-02, -3.4432998e-01,  1.2386000e+00,  1.0317000e+00,\n",
       "       -2.2728001e-01, -9.5207002e-03, -2.5432000e-01, -2.9791999e-01,\n",
       "        2.5933999e-01, -1.0421000e-01, -3.3875999e-01,  4.2469999e-01,\n",
       "        5.8335002e-04,  1.3093001e-01,  2.8786001e-01,  2.3474000e-01,\n",
       "        2.5905000e-02, -6.4358997e-01,  6.1330002e-02,  6.3841999e-01,\n",
       "        1.4704999e-01, -6.1593997e-01,  2.5097001e-01, -4.4872001e-01,\n",
       "        8.6825007e-01,  9.9554993e-02, -4.4734001e-02, -7.4238998e-01,\n",
       "       -5.9147000e-01, -5.4929000e-01,  3.8108000e-01,  5.5176999e-02,\n",
       "       -1.0487000e-01, -1.2838000e-01,  6.0521006e-03,  2.8742999e-01,\n",
       "        2.1592002e-01,  7.2871000e-02, -3.1643999e-01, -4.3320999e-01,\n",
       "        1.8681999e-01,  6.7273997e-02,  2.8115001e-01, -4.6222001e-02,\n",
       "       -9.6803002e-02,  5.6090999e-01, -6.7761999e-01, -1.6644999e-01,\n",
       "        1.5553001e-01,  5.2301002e-01, -3.0057999e-01, -3.7290999e-01,\n",
       "        8.7894998e-02, -1.7963000e-01, -4.4192997e-01, -4.4606999e-01,\n",
       "       -2.4122000e+00,  3.3738002e-01,  6.2415999e-01,  4.2787001e-01,\n",
       "       -2.5386000e-01, -6.1682999e-01, -7.0096999e-01,  4.9302998e-01,\n",
       "        3.6916003e-01, -9.7498991e-02,  6.1410999e-01, -4.7571999e-03,\n",
       "        4.3915999e-01, -2.1551000e-01, -5.6744999e-01, -4.0277997e-01,\n",
       "        2.9459000e-01, -3.0849999e-01,  1.0103000e-01,  7.9741001e-02,\n",
       "       -6.3810998e-01,  2.4781001e-01, -4.4545999e-01,  1.0828000e-01,\n",
       "       -2.3623998e-01, -5.0838000e-01, -1.7001002e-01, -7.8735000e-01,\n",
       "        3.4073004e-01, -3.1830001e-01,  4.5286000e-01, -9.5118009e-02,\n",
       "        2.0772000e-01, -8.0182999e-02, -3.7981999e-01, -4.9948999e-01,\n",
       "        4.0759001e-02, -3.7724003e-01, -8.9704998e-02, -6.8186998e-01,\n",
       "        2.2105999e-01, -3.9930999e-01,  3.2328999e-01, -3.6179999e-01,\n",
       "       -7.2092992e-01, -6.3404000e-01,  4.3125001e-01, -4.9743000e-01,\n",
       "       -1.7395000e-01, -3.8778999e-01, -3.2556000e-01,  1.4422999e-01,\n",
       "       -8.3401002e-02, -2.2994000e-01,  2.7792999e-01,  4.9112001e-01,\n",
       "        6.4511001e-01, -7.8945003e-02,  1.1170999e-01,  3.7264001e-01,\n",
       "        1.3070001e-01, -6.1606999e-02, -4.3500999e-01,  2.8999001e-02,\n",
       "        5.6224000e-01,  5.8011997e-02,  4.7077999e-02,  4.2770001e-01,\n",
       "        7.3245001e-01, -2.1150000e-02,  1.1988000e-01,  7.8823000e-02,\n",
       "       -1.9106001e-01,  3.5278000e-02, -3.1101999e-01,  1.3209000e-01,\n",
       "       -2.8606001e-01, -1.5649000e-01, -6.4339000e-01,  4.4599000e-01,\n",
       "       -3.0912000e-01,  4.4520000e-01, -3.6774001e-01,  2.7327001e-01,\n",
       "        6.7833000e-01, -8.3829999e-02, -4.5120001e-01,  1.0753999e-01,\n",
       "       -4.5908001e-01,  1.5095000e-01, -4.5855999e-01,  3.4465000e-01,\n",
       "        7.8013003e-02, -2.8319001e-01, -2.8148999e-02,  2.4404000e-01,\n",
       "       -7.1345001e-01,  5.2834000e-02, -2.8084999e-01,  2.5343999e-02,\n",
       "        4.2978998e-02,  1.5662999e-01, -7.4646997e-01, -1.1301000e+00,\n",
       "        4.4135001e-01,  3.1444001e-01, -1.0018000e-01, -5.3526002e-01,\n",
       "       -9.0600997e-01, -6.4954001e-01,  4.2664003e-02, -7.9926997e-02,\n",
       "        3.2905000e-01, -3.0796999e-01, -1.9190000e-02,  4.2765000e-01,\n",
       "        3.1459999e-01,  2.9051000e-01, -2.7386001e-01,  6.8483001e-01,\n",
       "        1.9394999e-02, -3.2883999e-01, -4.8239002e-01, -1.5747000e-01,\n",
       "       -1.6035999e-01,  4.9164000e-01, -7.0352000e-01, -3.5590997e-01,\n",
       "       -7.4887007e-01, -5.2827001e-01,  4.4983000e-02,  5.9246998e-02,\n",
       "        4.6224001e-01,  8.9697003e-02, -7.5617999e-01,  6.3682002e-01,\n",
       "        9.0680003e-02,  6.8829998e-02,  1.8295999e-01,  1.0753999e-01,\n",
       "        6.7810994e-01, -1.4715999e-01,  1.7028999e-01, -5.2630001e-01,\n",
       "        1.9268000e-01,  9.3129998e-01,  8.0363005e-01,  6.1324000e-01,\n",
       "       -3.0493999e-01,  2.0235999e-01,  5.8520001e-01,  2.6484001e-01,\n",
       "       -4.5863000e-01,  2.1035001e-03, -5.6989998e-01, -4.9091998e-01,\n",
       "        4.2511001e-01, -1.0954000e+00,  1.7124002e-01,  2.2495000e-01],\n",
       "      dtype=float32)"
      ]
     },
     "execution_count": 9,
     "metadata": {},
     "output_type": "execute_result"
    }
   ],
   "source": [
    "lc_vocab['cheese'].vector"
   ]
  },
  {
   "cell_type": "markdown",
   "metadata": {},
   "source": [
    "## Computing cosine similarities"
   ]
  },
  {
   "cell_type": "markdown",
   "metadata": {},
   "source": [
    "Now we define a function that computes the pairwise cosine similarities between a word and all other words in the vocabulary."
   ]
  },
  {
   "cell_type": "code",
   "execution_count": 10,
   "metadata": {},
   "outputs": [],
   "source": [
    "from sklearn.metrics import pairwise_distances\n",
    "\n",
    "def most_similar(word, k=10):\n",
    "    m = word.vocab.vectors.data\n",
    "    x = np.array([word.vector])\n",
    "    c = np.reshape(1 - pairwise_distances(m, x, metric='cosine'), -1)\n",
    "    return sorted(word.vocab, key=lambda w: c[word.vocab.vectors.key2row[w.orth]], reverse=True)[:k]"
   ]
  },
  {
   "cell_type": "markdown",
   "metadata": {},
   "source": [
    "What are the most similar words to *cheese*?"
   ]
  },
  {
   "cell_type": "code",
   "execution_count": 11,
   "metadata": {},
   "outputs": [
    {
     "name": "stdout",
     "output_type": "stream",
     "text": [
      "cheese\n",
      "cheddar\n",
      "bacon\n",
      "cheeses\n",
      "mozzarella\n",
      "butter\n",
      "sausage\n",
      "salad\n",
      "bread\n",
      "sauce\n"
     ]
    }
   ],
   "source": [
    "for word in most_similar(lc_vocab['cheese']):\n",
    "    print(word.orth_)"
   ]
  },
  {
   "cell_type": "markdown",
   "metadata": {},
   "source": [
    "## Visualising word similarities"
   ]
  },
  {
   "cell_type": "markdown",
   "metadata": {},
   "source": [
    "To visualise word vectors, we project them two a 2-dimensional plane using [t-SNE](https://lvdmaaten.github.io/tsne/), and plot the result."
   ]
  },
  {
   "cell_type": "code",
   "execution_count": 12,
   "metadata": {},
   "outputs": [],
   "source": [
    "%matplotlib inline\n",
    "\n",
    "from sklearn.manifold import TSNE\n",
    "\n",
    "import matplotlib.pyplot as plt\n",
    "\n",
    "def display_most_similar(*words):\n",
    "    xs = []\n",
    "    ls = []\n",
    "    for word in words:\n",
    "        for w in most_similar(word):\n",
    "            xs.append(w.vector)\n",
    "            ls.append(w.orth_)\n",
    "    tsne = TSNE(n_components=2, random_state=0)\n",
    "    y = tsne.fit_transform(xs)\n",
    "    x_coords = y[:, 0]\n",
    "    y_coords = y[:, 1]\n",
    "    plt.figure(figsize=(12, 8))\n",
    "    plt.scatter(x_coords, y_coords)\n",
    "    for label, x, y in zip(ls, x_coords, y_coords):\n",
    "        plt.annotate(label, xy=(x, y), xytext=(5, 5), textcoords='offset points', size=15)\n",
    "    plt.xlim(x_coords.min()-50, x_coords.max()+50)\n",
    "    plt.ylim(y_coords.min()-50, y_coords.max()+50)\n",
    "    plt.show()"
   ]
  },
  {
   "cell_type": "markdown",
   "metadata": {},
   "source": [
    "Here are the neighbours of *cheese*."
   ]
  },
  {
   "cell_type": "code",
   "execution_count": 13,
   "metadata": {},
   "outputs": [
    {
     "data": {
      "image/png": "[encoded data removed]",
      "text/plain": [
       "<Figure size 864x576 with 1 Axes>"
      ]
     },
     "metadata": {
      "needs_background": "light"
     },
     "output_type": "display_data"
    }
   ],
   "source": [
    "display_most_similar(lc_vocab['cheese'])"
   ]
  },
  {
   "cell_type": "code",
   "execution_count": 14,
   "metadata": {},
   "outputs": [
    {
     "data": {
      "image/png": "[encoded data removed]",
      "text/plain": [
       "<Figure size 864x576 with 1 Axes>"
      ]
     },
     "metadata": {
      "needs_background": "light"
     },
     "output_type": "display_data"
    }
   ],
   "source": [
    "display_most_similar(lc_vocab['goat'])"
   ]
  },
  {
   "cell_type": "markdown",
   "metadata": {},
   "source": [
    "When adding more words, we see a cluster structure:"
   ]
  },
  {
   "cell_type": "code",
   "execution_count": 15,
   "metadata": {},
   "outputs": [
    {
     "data": {
      "image/png": "[encoded data removed]",
      "text/plain": [
       "<Figure size 864x576 with 1 Axes>"
      ]
     },
     "metadata": {
      "needs_background": "light"
     },
     "output_type": "display_data"
    }
   ],
   "source": [
    "display_most_similar(lc_vocab['cheese'], lc_vocab['goat'], lc_vocab['sweden'], lc_vocab['university'], lc_vocab['computer'])"
   ]
  },
  {
   "cell_type": "markdown",
   "metadata": {},
   "source": [
    "## Analogies"
   ]
  },
  {
   "cell_type": "markdown",
   "metadata": {},
   "source": [
    "We start by defining a function that will find the closest word for a given vector (not necessarily a word vector)."
   ]
  },
  {
   "cell_type": "code",
   "execution_count": 16,
   "metadata": {},
   "outputs": [],
   "source": [
    "from sklearn.metrics import pairwise_distances\n",
    "\n",
    "def closest_word(vocab, x, exclude=[]):\n",
    "    m = vocab.vectors.data\n",
    "    x = np.array([x])\n",
    "    c = np.reshape(1 - pairwise_distances(m, x, metric='cosine'), -1)\n",
    "    for word in sorted(vocab, key=lambda w: c[vocab.vectors.key2row[w.orth]], reverse=True):\n",
    "        if word not in exclude:\n",
    "            return word"
   ]
  },
  {
   "cell_type": "markdown",
   "metadata": {},
   "source": [
    "Of course, the closest word to *cheese* is *cheese*:"
   ]
  },
  {
   "cell_type": "code",
   "execution_count": 17,
   "metadata": {},
   "outputs": [
    {
     "data": {
      "text/plain": [
       "'cheese'"
      ]
     },
     "execution_count": 17,
     "metadata": {},
     "output_type": "execute_result"
    }
   ],
   "source": [
    "closest_word(lc_vocab, lc_vocab['cheese'].vector).orth_"
   ]
  },
  {
   "cell_type": "markdown",
   "metadata": {},
   "source": [
    "What is the closest word to *cheese* if we exclude *cheese* itself?"
   ]
  },
  {
   "cell_type": "code",
   "execution_count": 18,
   "metadata": {},
   "outputs": [
    {
     "data": {
      "text/plain": [
       "'cheddar'"
      ]
     },
     "execution_count": 18,
     "metadata": {},
     "output_type": "execute_result"
    }
   ],
   "source": [
    "closest_word(lc_vocab, lc_vocab['cheese'].vector, exclude=[lc_vocab['cheese']]).orth_"
   ]
  },
  {
   "cell_type": "markdown",
   "metadata": {},
   "source": [
    "We can now write a function that &lsquo;calculates&rsquo; with words."
   ]
  },
  {
   "cell_type": "code",
   "execution_count": 19,
   "metadata": {},
   "outputs": [],
   "source": [
    "def analogy(word1, word2, word3):\n",
    "    x = word1.vector - word2.vector + word3.vector\n",
    "    return closest_word(word1.vocab, x, exclude=[word1, word2, word3])"
   ]
  },
  {
   "cell_type": "markdown",
   "metadata": {},
   "source": [
    "Here is the famous king &minus; man + woman = ? example."
   ]
  },
  {
   "cell_type": "code",
   "execution_count": 20,
   "metadata": {},
   "outputs": [
    {
     "data": {
      "text/plain": [
       "'queen'"
      ]
     },
     "execution_count": 20,
     "metadata": {},
     "output_type": "execute_result"
    }
   ],
   "source": [
    "analogy(lc_vocab['king'], lc_vocab['man'], lc_vocab['woman']).orth_"
   ]
  },
  {
   "cell_type": "markdown",
   "metadata": {},
   "source": [
    "The model knows the capital of Sweden."
   ]
  },
  {
   "cell_type": "code",
   "execution_count": 21,
   "metadata": {},
   "outputs": [
    {
     "data": {
      "text/plain": [
       "'stockholm'"
      ]
     },
     "execution_count": 21,
     "metadata": {},
     "output_type": "execute_result"
    }
   ],
   "source": [
    "analogy(lc_vocab['berlin'], lc_vocab['germany'], lc_vocab['sweden']).orth_"
   ]
  },
  {
   "cell_type": "markdown",
   "metadata": {},
   "source": [
    "The embedding also &lsquo;learns&rsquo; some syntactic analogies, such as the analogy between the past-tense and present-tense forms of verbs (here: *jump* and *eat*):"
   ]
  },
  {
   "cell_type": "code",
   "execution_count": 22,
   "metadata": {},
   "outputs": [
    {
     "data": {
      "text/plain": [
       "'ate'"
      ]
     },
     "execution_count": 22,
     "metadata": {},
     "output_type": "execute_result"
    }
   ],
   "source": [
    "analogy(lc_vocab['jumped'], lc_vocab['jump'], lc_vocab['eat']).orth_"
   ]
  },
  {
   "cell_type": "markdown",
   "metadata": {},
   "source": [
    "## Limitations"
   ]
  },
  {
   "cell_type": "markdown",
   "metadata": {},
   "source": [
    "The model is not good at distinguishing between synonyms and antonyms:"
   ]
  },
  {
   "cell_type": "code",
   "execution_count": 23,
   "metadata": {},
   "outputs": [
    {
     "data": {
      "text/plain": [
       "['alive',\n",
       " 'dying',\n",
       " 'dead',\n",
       " 'forever',\n",
       " 'survive',\n",
       " 'lives',\n",
       " 'life',\n",
       " 'still',\n",
       " 'gone',\n",
       " 'never']"
      ]
     },
     "execution_count": 23,
     "metadata": {},
     "output_type": "execute_result"
    }
   ],
   "source": [
    "[w.orth_ for w in most_similar(lc_vocab['alive'])]"
   ]
  },
  {
   "cell_type": "markdown",
   "metadata": {},
   "source": [
    "When experimenting with analogy examples, you will find that the embedding picks up common stereotypes:"
   ]
  },
  {
   "cell_type": "code",
   "execution_count": 24,
   "metadata": {},
   "outputs": [
    {
     "data": {
      "text/plain": [
       "'nurse'"
      ]
     },
     "execution_count": 24,
     "metadata": {},
     "output_type": "execute_result"
    }
   ],
   "source": [
    "analogy(lc_vocab['doctor'], lc_vocab['man'], lc_vocab['woman']).orth_"
   ]
  },
  {
   "cell_type": "code",
   "execution_count": 25,
   "metadata": {},
   "outputs": [
    {
     "data": {
      "text/plain": [
       "'italy'"
      ]
     },
     "execution_count": 25,
     "metadata": {},
     "output_type": "execute_result"
    }
   ],
   "source": [
    "analogy(lc_vocab['germany'], lc_vocab['beer'], lc_vocab['wine']).orth_"
   ]
  },
  {
   "cell_type": "markdown",
   "metadata": {},
   "source": [
    "Is a *cat* more closely related to a *dog* or to a *tiger*?"
   ]
  },
  {
   "cell_type": "code",
   "execution_count": 26,
   "metadata": {},
   "outputs": [
    {
     "data": {
      "text/plain": [
       "['cat',\n",
       " 'cats',\n",
       " 'kitten',\n",
       " 'dog',\n",
       " 'kitty',\n",
       " 'pet',\n",
       " 'puppy',\n",
       " 'kittens',\n",
       " 'feline',\n",
       " 'dogs']"
      ]
     },
     "execution_count": 26,
     "metadata": {},
     "output_type": "execute_result"
    }
   ],
   "source": [
    "[w.orth_ for w in most_similar(lc_vocab['cat'])]"
   ]
  },
  {
   "cell_type": "code",
   "execution_count": 27,
   "metadata": {},
   "outputs": [
    {
     "data": {
      "text/plain": [
       "['tiger',\n",
       " 'tigers',\n",
       " 'lion',\n",
       " 'panther',\n",
       " 'elephant',\n",
       " 'leopard',\n",
       " 'panda',\n",
       " 'rhino',\n",
       " 'cheetah',\n",
       " 'lions']"
      ]
     },
     "execution_count": 27,
     "metadata": {},
     "output_type": "execute_result"
    }
   ],
   "source": [
    "[w.orth_ for w in most_similar(lc_vocab['tiger'])]"
   ]
  }
 ],
 "metadata": {
  "kernelspec": {
   "display_name": "Python 3",
   "language": "python",
   "name": "python3"
  },
  "language_info": {
   "codemirror_mode": {
    "name": "ipython",
    "version": 3
   },
   "file_extension": ".py",
   "mimetype": "text/x-python",
   "name": "python",
   "nbconvert_exporter": "python",
   "pygments_lexer": "ipython3",
   "version": "3.6.3"
  }
 },
 "nbformat": 4,
 "nbformat_minor": 2
}
